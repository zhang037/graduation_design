{
 "cells": [
  {
   "cell_type": "markdown",
   "id": "e6fbf267",
   "metadata": {},
   "source": [
    "## 通过五折交叉验证来随机划分训练集和测试集 "
   ]
  },
  {
   "cell_type": "code",
   "execution_count": 1,
   "id": "b6ca40d6",
   "metadata": {},
   "outputs": [],
   "source": [
    "import logging\n",
    "import random\n",
    "from transformers import BertTokenizer\n",
    "\n",
    "def fold_crossover(lst, num_iteration):\n",
    "    random.shuffle(lst)  # 随机打乱原始列表\n",
    "    sublist_size = len(lst) // num_iteration  # 计算每个子列表的大小\n",
    "    sublists = []\n",
    "    for i in range(0, len(lst), sublist_size):\n",
    "        sublist = lst[i:i + sublist_size]  # 提取一个子列表\n",
    "        sublists.append(sublist)  # 将子列表添加到子列表列表中\n",
    "    return sublists\n",
    "\n",
    "def clean_list(lst, id_list):\n",
    "    cleaned_list = []\n",
    "    for i in range(len(lst)):\n",
    "        elem = \"##id:\" + str(id_list[i]) + \" O\" + lst[i]\n",
    "        if len(elem) >= 50:\n",
    "            if elem.startswith('\\n\\n\\n'):\n",
    "                elem = elem[3:]\n",
    "            cleaned_list.append(elem)\n",
    "    return cleaned_list\n",
    "\n",
    "def read_examples_from_file(file_path, num_iteration):\n",
    "    logging.info('***** 开始读入样本 *****')\n",
    "    with open(file_path, 'r', encoding='utf-8') as f:\n",
    "        lines = f.readlines()\n",
    "    content = \"\"\n",
    "    is_letter_between = True\n",
    "    id_list = []   # 存储每一篇文章的id\n",
    "    # 将属于同一篇文章的内容拼接为一个字符串\n",
    "    for i in range(len(lines)):\n",
    "        if lines[i].startswith(\"##id:\"):\n",
    "            # 获得这一段文章对应的id\n",
    "            id_list.append(lines[i][5:].split(\" \")[0])\n",
    "            is_letter_between = False\n",
    "        else:\n",
    "            if is_letter_between:\n",
    "                content += lines[i]\n",
    "            else:\n",
    "                is_letter_between = True\n",
    "                content += \"\\n\\n\\n\\n\\n\" + lines[i]\n",
    "    # 对每一篇文章进行数据清洗\n",
    "    content_list =  clean_list(content.split(\"\\n\\n\\n\\n\\n\")[1:], id_list)\n",
    "\n",
    "    # 将语料数据随机划分为5份\n",
    "    subcontent_list = fold_crossover(content_list, num_iteration)\n",
    "\n",
    "    # 随机获得一份作为测试集，另外的则拼接成为训练集\n",
    "    i = random.randint(0, 4)\n",
    "    dev_content = subcontent_list[i]\n",
    "    # 总语料集里拿掉测试集就是训练集\n",
    "    train_content = [elem for elem in content_list if elem not in dev_content]\n",
    "    return train_content, dev_content\n",
    "\n",
    "\n",
    "def generate_5cv_file(model_path, input_path, num_iteration, train_output_path, eval_output_path):\n",
    "    tokenzier = BertTokenizer.from_pretrained(model_path)\n",
    "    # 编码器，from_pretrained 从包含词表文件（vocab.txt）的目录中初始化一个分词器\n",
    "\n",
    "    train_content, dev_content = read_examples_from_file(input_path, num_iteration)\n",
    "\n",
    "\n",
    "    with open(train_output_path, 'w', encoding='utf-8') as f:\n",
    "        for doc in train_content:\n",
    "            f.write(doc)\n",
    "            f.write('\\n')\n",
    "\n",
    "    with open(eval_output_path, 'w', encoding='utf-8') as f:\n",
    "        for doc in dev_content:\n",
    "            f.write(doc)\n",
    "            f.write('\\n')\n",
    "    return 0"
   ]
  },
  {
   "cell_type": "code",
   "execution_count": 3,
   "id": "7c0be3ef",
   "metadata": {},
   "outputs": [
    {
     "data": {
      "text/plain": [
       "0"
      ]
     },
     "execution_count": 3,
     "metadata": {},
     "output_type": "execute_result"
    }
   ],
   "source": [
    "input_path = '/ssd01/Codes/PersonalCodes/ZhangXianpeng/graduation_design/datas/fineturn_data/mechanical_data/mechine_zhang.txt'\n",
    "# 此为手动标注的样本数据\n",
    "train_output_path = '/ssd01/Codes/PersonalCodes/ZhangXianpeng/graduation_design/datas/fineturn_data/mechanical_data/mechine_train.txt'\n",
    "eval_output_path = '/ssd01/Codes/PersonalCodes/ZhangXianpeng/graduation_design/datas/fineturn_data/mechanical_data/mechine_dev.txt'\n",
    "num_iteration = 5\n",
    "model_path = '/ssd01/Codes/PersonalCodes/ZhangXianpeng/graduation_design/mechanical_ner/model_bin'\n",
    "\n",
    "generate_5cv_file(model_path, input_path, num_iteration, train_output_path, eval_output_path)"
   ]
  },
  {
   "cell_type": "code",
   "execution_count": null,
   "id": "7ff752cf",
   "metadata": {},
   "outputs": [],
   "source": []
  }
 ],
 "metadata": {
  "kernelspec": {
   "display_name": "zhangxianpeng_env",
   "language": "python",
   "name": "zhangxianpeng_env"
  },
  "language_info": {
   "codemirror_mode": {
    "name": "ipython",
    "version": 3
   },
   "file_extension": ".py",
   "mimetype": "text/x-python",
   "name": "python",
   "nbconvert_exporter": "python",
   "pygments_lexer": "ipython3",
   "version": "3.8.10"
  }
 },
 "nbformat": 4,
 "nbformat_minor": 5
}
