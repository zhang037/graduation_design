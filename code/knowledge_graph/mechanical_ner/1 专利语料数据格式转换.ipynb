{
 "cells": [
  {
   "cell_type": "markdown",
   "id": "82ca24c7",
   "metadata": {},
   "source": [
    "## 1.读原文件 "
   ]
  },
  {
   "cell_type": "code",
   "execution_count": 1,
   "id": "5d7dab66",
   "metadata": {},
   "outputs": [],
   "source": [
    "import csv\n",
    "\n",
    "# 专利每行内容太多，导致无法读出来，设置解除limit\n",
    "csv.field_size_limit(2000 * 2000 * 400)\n",
    "\n",
    "with open('/ssd01/Codes/PersonalCodes/ZhangXianpeng/graduation_design/datas/original_data/machine/machine_data1/patent_1.csv', 'r', encoding='utf-8') as csvfile:\n",
    "    reader = csv.reader(csvfile, delimiter=',', quotechar='\"')\n",
    "    # 跳过表头\n",
    "    next(reader)\n",
    "    \n",
    "    # 逐行读取数据, 并将需要叙述存入列表中\n",
    "    text_list = []\n",
    "    \n",
    "    # 建立文章标题到id的映射，用于后续提取文章。\n",
    "    id2title_dic = {}\n",
    "    index = 0\n",
    "    for row in reader:\n",
    "        id = '##id:'+ str(index)\n",
    "        title = row[0]\n",
    "        IPC = row[5]\n",
    "        abstract = row[7]\n",
    "        claim = row[8]\n",
    "        description = row[9]\n",
    "        \n",
    "        # 将文章编号、标题、摘要和权利声明合并，并处理成标注需要的格式\n",
    "        text_list.append(id)\n",
    "        text_list.append(title)\n",
    "        text_list.append(abstract)\n",
    "        text_list.append(claim)\n",
    "        # text_list.append(description)\n",
    "        id2title_dic[id] = title\n",
    "        \n",
    "        index = index + 1 "
   ]
  },
  {
   "cell_type": "code",
   "execution_count": 2,
   "id": "d3de5311",
   "metadata": {},
   "outputs": [
    {
     "name": "stdout",
     "output_type": "stream",
     "text": [
      "文章的总篇数: 1000.0\n",
      "文章示例： ##id:0\n",
      "文章示例： Clematis plant named ‘Evipo110’\n",
      "文章示例： A new Clematis plant with a compact growth habit, profuse, white flowers, and continuous summer flowering. The variety successfully propagates from softwood cuttings and is suitable for cultivation in commercial nursery culture. This new and distinct variety has shown to be uniform and stable in the resulting generations from asexual propagation from vegetative cuttings.\n",
      "文章示例： 1. A new and distinct variety of Clematis plant named ‘Evipo110’, substantially as described and illustrated, due to its abundant white flowers with good keepability, attractive long lasting foliage and compact growth, suitability for production from softwood cuttings in pots, durable flowers and foliage which make the variety suitable for distribution in the floral industry.\n",
      "文章示例： ##id:1\n"
     ]
    }
   ],
   "source": [
    "print(\"文章的总篇数:\" , len(text_list)/4)\n",
    "\n",
    "for i in range(0, 5):\n",
    "    print(\"文章示例：\", text_list[i])"
   ]
  },
  {
   "cell_type": "code",
   "execution_count": 3,
   "id": "c9aa1c32",
   "metadata": {},
   "outputs": [],
   "source": [
    "# 将id2title_dic存储为jsonl文件\n",
    "import json\n",
    "\n",
    "with open(\"/ssd01/Codes/PersonalCodes/ZhangXianpeng/graduation_design/datas/original_data/machine/id和标题的对应关系.jsonl\", \"w\", encoding=\"utf-8\" ) as file:\n",
    "    json.dump(id2title_dic, file)"
   ]
  },
  {
   "cell_type": "markdown",
   "id": "dc6ce539",
   "metadata": {},
   "source": [
    "## 2. 将读的内容分割成每个单词 "
   ]
  },
  {
   "cell_type": "code",
   "execution_count": null,
   "id": "6cd17b2f",
   "metadata": {},
   "outputs": [],
   "source": [
    "import re\n",
    "import string\n",
    "\n",
    "token_list = []        # 列表中的每个元素都是一个单词\n",
    "for content in text_list:\n",
    "    # 判断是否为文章编号,是的话则不做处理\n",
    "    if content.startswith('##'):\n",
    "        token_list.append(content)\n",
    "    else:\n",
    "        word_list = content.split()\n",
    "        for word in word_list:\n",
    "            # 删除单词中杂乱的符号\n",
    "            word = re.split(r'[ \\t!@#$%^&*()—\\-_+=\\\\/\\'\",;:<>?\\[\\]{}|`~]+', word)\n",
    "            for token in word:\n",
    "                if token != '':\n",
    "                    # 删除划分后word的标点符号\n",
    "                    if token.endswith('.'):\n",
    "                        token_list.append(token[:-1])\n",
    "                        token_list.append('.')\n",
    "                    else:\n",
    "                        token_list.append(token)\n"
   ]
  },
  {
   "cell_type": "code",
   "execution_count": null,
   "id": "b713e4d1",
   "metadata": {},
   "outputs": [],
   "source": [
    "token_list"
   ]
  },
  {
   "cell_type": "markdown",
   "id": "740860b5",
   "metadata": {},
   "source": [
    "## 3.将单词逐行写入txt文件 "
   ]
  },
  {
   "cell_type": "code",
   "execution_count": null,
   "id": "15a7db94",
   "metadata": {},
   "outputs": [],
   "source": [
    "with open(\"/ssd01/Codes/PersonalCodes/ZhangXianpeng/graduation_design/datas/original_data/machine/machine_data1/patent_1.txt\", \"w\",encoding='utf-8') as file:\n",
    "    # 将列表中的单词逐行写入文件\n",
    "    for i in range(len(token_list) - 1):\n",
    "        if token_list[i + 1].startswith('##id:'):\n",
    "            file.write(\". O\\n\")  \n",
    "        else:\n",
    "            file.write(token_list[i] + \" O\\n\")"
   ]
  },
  {
   "cell_type": "markdown",
   "id": "c1cca116",
   "metadata": {},
   "source": [
    "## 4.修改小常语料格式 "
   ]
  },
  {
   "cell_type": "code",
   "execution_count": null,
   "id": "808d3a72",
   "metadata": {},
   "outputs": [],
   "source": [
    "token_label_list = []\n",
    "with open(\"/ssd01/Codes/PersonalCodes/ZhangXianpeng/graduation_design/datas/fineturn_data/mechanical_data/mechine_chang.txt\", \"r\",encoding='utf-8') as file:\n",
    "    lines = file.readlines()\n",
    "    id = 1\n",
    "    for i in range(len(lines)):\n",
    "        if lines[i] == \"\\n\":\n",
    "            token_label_list.append(\". O\\n\")\n",
    "            token_label_list.append(\"##id:\" + str(id) + \" O\\n\")\n",
    "            id = id + 1\n",
    "        else:\n",
    "            token_label_list.append(lines[i])\n",
    "print(\"处理前的长度为：\", len(lines))\n",
    "print(\"处理后的长度为：\", len(token_label_list))"
   ]
  },
  {
   "cell_type": "code",
   "execution_count": null,
   "id": "930cfae8",
   "metadata": {},
   "outputs": [],
   "source": [
    "with open(\"/ssd01/Codes/PersonalCodes/ZhangXianpeng/graduation_design/datas/fineturn_data/mechanical_data/mechine_zhang.txt\", \"w\",encoding='utf-8') as file:\n",
    "    for i in range(len(token_label_list)):\n",
    "        file.write(token_label_list[i])"
   ]
  },
  {
   "cell_type": "code",
   "execution_count": null,
   "id": "4c1b7c10",
   "metadata": {},
   "outputs": [],
   "source": []
  }
 ],
 "metadata": {
  "kernelspec": {
   "display_name": "zhangxianpeng_env",
   "language": "python",
   "name": "zhangxianpeng_env"
  },
  "language_info": {
   "codemirror_mode": {
    "name": "ipython",
    "version": 3
   },
   "file_extension": ".py",
   "mimetype": "text/x-python",
   "name": "python",
   "nbconvert_exporter": "python",
   "pygments_lexer": "ipython3",
   "version": "3.8.10"
  }
 },
 "nbformat": 4,
 "nbformat_minor": 5
}
